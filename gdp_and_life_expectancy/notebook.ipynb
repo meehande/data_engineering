{
 "cells": [
  {
   "cell_type": "code",
   "execution_count": 7,
   "metadata": {},
   "outputs": [],
   "source": [
    "import pandas as pd\n",
    "import plotly.express as ply\n",
    "import plotly\n",
    "pd.set_option('display.max_columns', None)\n"
   ]
  },
  {
   "cell_type": "code",
   "execution_count": null,
   "metadata": {},
   "outputs": [],
   "source": []
  },
  {
   "cell_type": "code",
   "execution_count": 2,
   "metadata": {},
   "outputs": [
    {
     "data": {
      "text/plain": [
       "True"
      ]
     },
     "execution_count": 2,
     "metadata": {},
     "output_type": "execute_result"
    }
   ],
   "source": [
    "import os\n",
    "os.getcwd()\n",
    "#os.chdir('/Users/deirdremeehan/Code/Scratch/data_enginering/gdp_and_life_expectancy')\n",
    "os.path.exists('./data/gdp.csv')"
   ]
  },
  {
   "attachments": {},
   "cell_type": "markdown",
   "metadata": {},
   "source": [
    "# Exploratory Data Analysis - GDP Dataset"
   ]
  },
  {
   "cell_type": "code",
   "execution_count": 3,
   "metadata": {},
   "outputs": [
    {
     "name": "stdout",
     "output_type": "stream",
     "text": [
      "      Country CountryCode  Year       GDP_USD\n",
      "0  Arab World         ARB  1968  2.576068e+10\n",
      "1  Arab World         ARB  1969  2.843420e+10\n",
      "2  Arab World         ARB  1970  3.138550e+10\n",
      "3  Arab World         ARB  1971  3.642691e+10\n",
      "4  Arab World         ARB  1972  4.331606e+10\n"
     ]
    }
   ],
   "source": [
    "## Read in GDP Dataset - datacard [here](https://www.kaggle.com/datasets/tunguz/country-regional-and-world-gdp)\n",
    "gdp = pd.read_csv('./data/gdp.csv')\n",
    "\n",
    "print(gdp.head())"
   ]
  },
  {
   "cell_type": "code",
   "execution_count": 4,
   "metadata": {},
   "outputs": [
    {
     "name": "stdout",
     "output_type": "stream",
     "text": [
      "Shape: (11507, 4)\n",
      "First Year: 1960\n",
      "Last Year: 2016\n",
      "Countries: ['Arab World' 'Caribbean small states' 'Central Europe and the Baltics'\n",
      " 'Early-demographic dividend' 'East Asia & Pacific'\n",
      " 'East Asia & Pacific (excluding high income)'\n",
      " 'East Asia & Pacific (IDA & IBRD countries)' 'Euro area'\n",
      " 'Europe & Central Asia' 'Europe & Central Asia (excluding high income)'\n",
      " 'Europe & Central Asia (IDA & IBRD countries)' 'European Union'\n",
      " 'Fragile and conflict affected situations'\n",
      " 'Heavily indebted poor countries (HIPC)' 'High income' 'IBRD only'\n",
      " 'IDA & IBRD total' 'IDA blend' 'IDA only' 'IDA total'\n",
      " 'Late-demographic dividend' 'Latin America & Caribbean'\n",
      " 'Latin America & Caribbean (excluding high income)'\n",
      " 'Latin America & the Caribbean (IDA & IBRD countries)'\n",
      " 'Least developed countries: UN classification' 'Low & middle income'\n",
      " 'Low income' 'Lower middle income' 'Middle East & North Africa'\n",
      " 'Middle East & North Africa (excluding high income)'\n",
      " 'Middle East & North Africa (IDA & IBRD countries)' 'Middle income'\n",
      " 'North America' 'OECD members' 'Other small states'\n",
      " 'Pacific island small states' 'Post-demographic dividend'\n",
      " 'Pre-demographic dividend' 'Small states' 'South Asia'\n",
      " 'South Asia (IDA & IBRD)' 'Sub-Saharan Africa'\n",
      " 'Sub-Saharan Africa (excluding high income)'\n",
      " 'Sub-Saharan Africa (IDA & IBRD countries)' 'Upper middle income' 'World'\n",
      " 'Afghanistan' 'Albania' 'Algeria' 'American Samoa' 'Andorra' 'Angola'\n",
      " 'Antigua and Barbuda' 'Argentina' 'Armenia' 'Aruba' 'Australia' 'Austria'\n",
      " 'Azerbaijan' 'Bahamas, The' 'Bahrain' 'Bangladesh' 'Barbados' 'Belarus'\n",
      " 'Belgium' 'Belize' 'Benin' 'Bermuda' 'Bhutan' 'Bolivia'\n",
      " 'Bosnia and Herzegovina' 'Botswana' 'Brazil' 'Brunei Darussalam'\n",
      " 'Bulgaria' 'Burkina Faso' 'Burundi' 'Cabo Verde' 'Cambodia' 'Cameroon'\n",
      " 'Canada' 'Cayman Islands' 'Central African Republic' 'Chad'\n",
      " 'Channel Islands' 'Chile' 'China' 'Colombia' 'Comoros' 'Congo, Dem. Rep.'\n",
      " 'Congo, Rep.' 'Costa Rica' \"Cote d'Ivoire\" 'Croatia' 'Cuba' 'Cyprus'\n",
      " 'Czech Republic' 'Denmark' 'Djibouti' 'Dominica' 'Dominican Republic'\n",
      " 'Ecuador' 'Egypt, Arab Rep.' 'El Salvador' 'Equatorial Guinea' 'Eritrea'\n",
      " 'Estonia' 'Ethiopia' 'Faroe Islands' 'Fiji' 'Finland' 'France'\n",
      " 'French Polynesia' 'Gabon' 'Gambia, The' 'Georgia' 'Germany' 'Ghana'\n",
      " 'Greece' 'Greenland' 'Grenada' 'Guam' 'Guatemala' 'Guinea'\n",
      " 'Guinea-Bissau' 'Guyana' 'Haiti' 'Honduras' 'Hong Kong SAR, China'\n",
      " 'Hungary' 'Iceland' 'India' 'Indonesia' 'Iran, Islamic Rep.' 'Iraq'\n",
      " 'Ireland' 'Isle of Man' 'Israel' 'Italy' 'Jamaica' 'Japan' 'Jordan'\n",
      " 'Kazakhstan' 'Kenya' 'Kiribati' 'Korea, Rep.' 'Kosovo' 'Kuwait'\n",
      " 'Kyrgyz Republic' 'Lao PDR' 'Latvia' 'Lebanon' 'Lesotho' 'Liberia'\n",
      " 'Libya' 'Liechtenstein' 'Lithuania' 'Luxembourg' 'Macao SAR, China'\n",
      " 'Macedonia, FYR' 'Madagascar' 'Malawi' 'Malaysia' 'Maldives' 'Mali'\n",
      " 'Malta' 'Marshall Islands' 'Mauritania' 'Mauritius' 'Mexico'\n",
      " 'Micronesia, Fed. Sts.' 'Moldova' 'Monaco' 'Mongolia' 'Montenegro'\n",
      " 'Morocco' 'Mozambique' 'Myanmar' 'Namibia' 'Nauru' 'Nepal' 'Netherlands'\n",
      " 'New Caledonia' 'New Zealand' 'Nicaragua' 'Niger' 'Nigeria'\n",
      " 'Northern Mariana Islands' 'Norway' 'Oman' 'Pakistan' 'Palau' 'Panama'\n",
      " 'Papua New Guinea' 'Paraguay' 'Peru' 'Philippines' 'Poland' 'Portugal'\n",
      " 'Puerto Rico' 'Qatar' 'Romania' 'Russian Federation' 'Rwanda' 'Samoa'\n",
      " 'San Marino' 'Sao Tome and Principe' 'Saudi Arabia' 'Senegal' 'Serbia'\n",
      " 'Seychelles' 'Sierra Leone' 'Singapore' 'Slovak Republic' 'Slovenia'\n",
      " 'Solomon Islands' 'Somalia' 'South Africa' 'South Sudan' 'Spain'\n",
      " 'Sri Lanka' 'St. Kitts and Nevis' 'St. Lucia'\n",
      " 'St. Vincent and the Grenadines' 'Sudan' 'Suriname' 'Swaziland' 'Sweden'\n",
      " 'Switzerland' 'Syrian Arab Republic' 'Tajikistan' 'Tanzania' 'Thailand'\n",
      " 'Timor-Leste' 'Togo' 'Tonga' 'Trinidad and Tobago' 'Tunisia' 'Turkey'\n",
      " 'Turkmenistan' 'Tuvalu' 'Uganda' 'Ukraine' 'United Arab Emirates'\n",
      " 'United Kingdom' 'United States' 'Uruguay' 'Uzbekistan' 'Vanuatu'\n",
      " 'Venezuela, RB' 'Vietnam' 'Virgin Islands (U.S.)' 'West Bank and Gaza'\n",
      " 'Yemen, Rep.' 'Zambia' 'Zimbabwe']\n",
      "Number of Countries: 256\n",
      "Distribution per country: Country\n",
      "Hong Kong SAR, China      57\n",
      "Jamaica                   57\n",
      "Honduras                  57\n",
      "Caribbean small states    57\n",
      "Iceland                   57\n",
      "                          ..\n",
      "Channel Islands           10\n",
      "Nauru                     10\n",
      "South Sudan                8\n",
      "Somalia                    4\n",
      "Cayman Islands             2\n",
      "Name: count, Length: 256, dtype: int64\n"
     ]
    }
   ],
   "source": [
    "print(f\"Shape: {gdp.shape}\")\n",
    "\n",
    "print(f\"First Year: {min(gdp.Year)}\")\n",
    "print(f\"Last Year: {max(gdp.Year)}\")\n",
    "print(f\"Countries: {gdp['Country'].unique()}\")\n",
    "print(f\"Number of Countries: {len(gdp['Country'].unique())}\")\n",
    "print(f\"Distribution per country: {gdp['Country'].value_counts()}\")"
   ]
  },
  {
   "cell_type": "code",
   "execution_count": 20,
   "metadata": {},
   "outputs": [
    {
     "data": {
      "text/plain": [
       "'gdp_eda.html'"
      ]
     },
     "execution_count": 20,
     "metadata": {},
     "output_type": "execute_result"
    }
   ],
   "source": [
    "fig = ply.scatter(data_frame= gdp,\n",
    "           x= \"Year\",\n",
    "           y=\"GDP_USD\",\n",
    "           color=\"Country\", \n",
    "           hover_name=\"Country\",\n",
    "           log_y=False)\n",
    "plotly.offline.plot(fig, filename='gdp_eda.html')"
   ]
  },
  {
   "attachments": {},
   "cell_type": "markdown",
   "metadata": {},
   "source": [
    "# Exploratory Data Analysis - Life Expectancy Dataset"
   ]
  },
  {
   "cell_type": "code",
   "execution_count": 16,
   "metadata": {},
   "outputs": [
    {
     "data": {
      "text/html": [
       "<div>\n",
       "<style scoped>\n",
       "    .dataframe tbody tr th:only-of-type {\n",
       "        vertical-align: middle;\n",
       "    }\n",
       "\n",
       "    .dataframe tbody tr th {\n",
       "        vertical-align: top;\n",
       "    }\n",
       "\n",
       "    .dataframe thead th {\n",
       "        text-align: right;\n",
       "    }\n",
       "</style>\n",
       "<table border=\"1\" class=\"dataframe\">\n",
       "  <thead>\n",
       "    <tr style=\"text-align: right;\">\n",
       "      <th></th>\n",
       "      <th>Country</th>\n",
       "      <th>Year</th>\n",
       "      <th>Status</th>\n",
       "      <th>Population</th>\n",
       "      <th>Hepatitis B</th>\n",
       "      <th>Measles</th>\n",
       "      <th>Polio</th>\n",
       "      <th>Diphtheria</th>\n",
       "      <th>HIV/AIDS</th>\n",
       "      <th>infant deaths</th>\n",
       "      <th>under-five deaths</th>\n",
       "      <th>Total expenditure</th>\n",
       "      <th>GDP</th>\n",
       "      <th>BMI</th>\n",
       "      <th>thinness  1-19 years</th>\n",
       "      <th>Alcohol</th>\n",
       "      <th>Schooling</th>\n",
       "      <th>LifeExpectancy</th>\n",
       "    </tr>\n",
       "  </thead>\n",
       "  <tbody>\n",
       "    <tr>\n",
       "      <th>0</th>\n",
       "      <td>Afghanistan</td>\n",
       "      <td>2015</td>\n",
       "      <td>Developing</td>\n",
       "      <td>33736494.0</td>\n",
       "      <td>65.0</td>\n",
       "      <td>1154</td>\n",
       "      <td>6.0</td>\n",
       "      <td>65.0</td>\n",
       "      <td>0.1</td>\n",
       "      <td>62</td>\n",
       "      <td>83</td>\n",
       "      <td>8.16</td>\n",
       "      <td>584.259210</td>\n",
       "      <td>19.1</td>\n",
       "      <td>17.2</td>\n",
       "      <td>0.01</td>\n",
       "      <td>10.1</td>\n",
       "      <td>65.0</td>\n",
       "    </tr>\n",
       "    <tr>\n",
       "      <th>1</th>\n",
       "      <td>Afghanistan</td>\n",
       "      <td>2014</td>\n",
       "      <td>Developing</td>\n",
       "      <td>327582.0</td>\n",
       "      <td>62.0</td>\n",
       "      <td>492</td>\n",
       "      <td>58.0</td>\n",
       "      <td>62.0</td>\n",
       "      <td>0.1</td>\n",
       "      <td>64</td>\n",
       "      <td>86</td>\n",
       "      <td>8.18</td>\n",
       "      <td>612.696514</td>\n",
       "      <td>18.6</td>\n",
       "      <td>17.5</td>\n",
       "      <td>0.01</td>\n",
       "      <td>10.0</td>\n",
       "      <td>59.9</td>\n",
       "    </tr>\n",
       "    <tr>\n",
       "      <th>2</th>\n",
       "      <td>Afghanistan</td>\n",
       "      <td>2013</td>\n",
       "      <td>Developing</td>\n",
       "      <td>31731688.0</td>\n",
       "      <td>64.0</td>\n",
       "      <td>430</td>\n",
       "      <td>62.0</td>\n",
       "      <td>64.0</td>\n",
       "      <td>0.1</td>\n",
       "      <td>66</td>\n",
       "      <td>89</td>\n",
       "      <td>8.13</td>\n",
       "      <td>631.744976</td>\n",
       "      <td>18.1</td>\n",
       "      <td>17.7</td>\n",
       "      <td>0.01</td>\n",
       "      <td>9.9</td>\n",
       "      <td>59.9</td>\n",
       "    </tr>\n",
       "    <tr>\n",
       "      <th>3</th>\n",
       "      <td>Afghanistan</td>\n",
       "      <td>2012</td>\n",
       "      <td>Developing</td>\n",
       "      <td>3696958.0</td>\n",
       "      <td>67.0</td>\n",
       "      <td>2787</td>\n",
       "      <td>67.0</td>\n",
       "      <td>67.0</td>\n",
       "      <td>0.1</td>\n",
       "      <td>69</td>\n",
       "      <td>93</td>\n",
       "      <td>8.52</td>\n",
       "      <td>669.959000</td>\n",
       "      <td>17.6</td>\n",
       "      <td>17.9</td>\n",
       "      <td>0.01</td>\n",
       "      <td>9.8</td>\n",
       "      <td>59.5</td>\n",
       "    </tr>\n",
       "    <tr>\n",
       "      <th>4</th>\n",
       "      <td>Afghanistan</td>\n",
       "      <td>2011</td>\n",
       "      <td>Developing</td>\n",
       "      <td>2978599.0</td>\n",
       "      <td>68.0</td>\n",
       "      <td>3013</td>\n",
       "      <td>68.0</td>\n",
       "      <td>68.0</td>\n",
       "      <td>0.1</td>\n",
       "      <td>71</td>\n",
       "      <td>97</td>\n",
       "      <td>7.87</td>\n",
       "      <td>63.537231</td>\n",
       "      <td>17.2</td>\n",
       "      <td>18.2</td>\n",
       "      <td>0.01</td>\n",
       "      <td>9.5</td>\n",
       "      <td>59.2</td>\n",
       "    </tr>\n",
       "  </tbody>\n",
       "</table>\n",
       "</div>"
      ],
      "text/plain": [
       "       Country  Year      Status  Population  Hepatitis B  Measles  Polio   \n",
       "0  Afghanistan  2015  Developing  33736494.0         65.0     1154    6.0  \\\n",
       "1  Afghanistan  2014  Developing    327582.0         62.0      492   58.0   \n",
       "2  Afghanistan  2013  Developing  31731688.0         64.0      430   62.0   \n",
       "3  Afghanistan  2012  Developing   3696958.0         67.0     2787   67.0   \n",
       "4  Afghanistan  2011  Developing   2978599.0         68.0     3013   68.0   \n",
       "\n",
       "   Diphtheria  HIV/AIDS  infant deaths  under-five deaths  Total expenditure   \n",
       "0        65.0       0.1             62                 83               8.16  \\\n",
       "1        62.0       0.1             64                 86               8.18   \n",
       "2        64.0       0.1             66                 89               8.13   \n",
       "3        67.0       0.1             69                 93               8.52   \n",
       "4        68.0       0.1             71                 97               7.87   \n",
       "\n",
       "          GDP   BMI  thinness  1-19 years  Alcohol  Schooling  LifeExpectancy  \n",
       "0  584.259210  19.1                  17.2     0.01       10.1            65.0  \n",
       "1  612.696514  18.6                  17.5     0.01       10.0            59.9  \n",
       "2  631.744976  18.1                  17.7     0.01        9.9            59.9  \n",
       "3  669.959000  17.6                  17.9     0.01        9.8            59.5  \n",
       "4   63.537231  17.2                  18.2     0.01        9.5            59.2  "
      ]
     },
     "execution_count": 16,
     "metadata": {},
     "output_type": "execute_result"
    }
   ],
   "source": [
    "life_exp = pd.read_csv('./data/life_expectancy.csv')\n",
    "\n",
    "life_exp.head()"
   ]
  },
  {
   "cell_type": "code",
   "execution_count": 17,
   "metadata": {},
   "outputs": [
    {
     "name": "stdout",
     "output_type": "stream",
     "text": [
      "Shape: (2848, 18)\n",
      "First Year: 2000\n",
      "Last Year: 2015\n",
      "Countries: ['Afghanistan' 'Albania' 'Algeria' 'Angola' 'Antigua and Barbuda'\n",
      " 'Argentina' 'Armenia' 'Australia' 'Austria' 'Azerbaijan' 'Bahamas'\n",
      " 'Bahrain' 'Bangladesh' 'Barbados' 'Belarus' 'Belgium' 'Belize' 'Benin'\n",
      " 'Bhutan' 'Bolivia (Plurinational State of)' 'Bosnia and Herzegovina'\n",
      " 'Botswana' 'Brazil' 'Brunei Darussalam' 'Bulgaria' 'Burkina Faso'\n",
      " \"Côte d'Ivoire\" 'Cabo Verde' 'Cambodia' 'Cameroon' 'Canada'\n",
      " 'Central African Republic' 'Chad' 'Chile' 'Colombia' 'Comoros' 'Congo'\n",
      " 'Costa Rica' 'Croatia' 'Cuba' 'Cyprus' 'Czechia'\n",
      " \"Democratic People's Republic of Korea\"\n",
      " 'Democratic Republic of the Congo' 'Denmark' 'Djibouti'\n",
      " 'Dominican Republic' 'Ecuador' 'Egypt' 'El Salvador' 'Equatorial Guinea'\n",
      " 'Eritrea' 'Estonia' 'Fiji' 'Finland' 'France' 'Gabon' 'Gambia' 'Georgia'\n",
      " 'Germany' 'Ghana' 'Greece' 'Grenada' 'Guatemala' 'Guinea' 'Guinea-Bissau'\n",
      " 'Guyana' 'Haiti' 'Honduras' 'Hungary' 'Iceland' 'India' 'Indonesia'\n",
      " 'Iran (Islamic Republic of)' 'Iraq' 'Ireland' 'Israel' 'Italy' 'Jamaica'\n",
      " 'Japan' 'Jordan' 'Kazakhstan' 'Kenya' 'Kiribati' 'Kuwait' 'Kyrgyzstan'\n",
      " \"Lao People's Democratic Republic\" 'Lebanon' 'Lesotho' 'Liberia' 'Libya'\n",
      " 'Lithuania' 'Luxembourg' 'Madagascar' 'Malawi' 'Malaysia' 'Maldives'\n",
      " 'Mali' 'Malta' 'Mauritania' 'Mauritius' 'Mexico'\n",
      " 'Micronesia (Federated States of)' 'Mongolia' 'Montenegro' 'Morocco'\n",
      " 'Mozambique' 'Myanmar' 'Namibia' 'Nepal' 'Netherlands' 'New Zealand'\n",
      " 'Nicaragua' 'Niger' 'Nigeria' 'Norway' 'Oman' 'Pakistan' 'Panama'\n",
      " 'Paraguay' 'Peru' 'Philippines' 'Poland' 'Portugal' 'Qatar'\n",
      " 'Republic of Korea' 'Republic of Moldova' 'Romania' 'Russian Federation'\n",
      " 'Rwanda' 'Saint Lucia' 'Saint Vincent and the Grenadines' 'Samoa'\n",
      " 'Sao Tome and Principe' 'Saudi Arabia' 'Senegal' 'Serbia' 'Seychelles'\n",
      " 'Sierra Leone' 'Singapore' 'Slovakia' 'Slovenia' 'Solomon Islands'\n",
      " 'Somalia' 'South Africa' 'South Sudan' 'Spain' 'Sri Lanka' 'Sudan'\n",
      " 'Suriname' 'Swaziland' 'Sweden' 'Switzerland' 'Syrian Arab Republic'\n",
      " 'Tajikistan' 'Thailand' 'The former Yugoslav republic of Macedonia'\n",
      " 'Timor-Leste' 'Togo' 'Tonga' 'Trinidad and Tobago' 'Tunisia' 'Turkey'\n",
      " 'Turkmenistan' 'Uganda' 'Ukraine' 'United Arab Emirates'\n",
      " 'United Kingdom of Great Britain and Northern Ireland'\n",
      " 'United Republic of Tanzania' 'United States of America' 'Uruguay'\n",
      " 'Uzbekistan' 'Vanuatu' 'Venezuela (Bolivarian Republic of)' 'Viet Nam'\n",
      " 'Yemen' 'Zambia' 'Zimbabwe']\n",
      "Number of Countries: 178\n",
      "Distribution: Country\n",
      "Afghanistan              16\n",
      "Sao Tome and Principe    16\n",
      "Niger                    16\n",
      "Nigeria                  16\n",
      "Norway                   16\n",
      "                         ..\n",
      "Greece                   16\n",
      "Grenada                  16\n",
      "Guatemala                16\n",
      "Guinea                   16\n",
      "Zimbabwe                 16\n",
      "Name: count, Length: 178, dtype: int64\n"
     ]
    }
   ],
   "source": [
    "print(f\"Shape: {life_exp.shape}\")\n",
    "\n",
    "print(f\"First Year: {min(life_exp.Year)}\")\n",
    "print(f\"Last Year: {max(life_exp.Year)}\")\n",
    "print(f\"Countries: {life_exp['Country'].unique()}\")\n",
    "print(f\"Number of Countries: {len(life_exp['Country'].unique())}\")\n",
    "print(f\"Distribution: {life_exp['Country'].value_counts()}\") # full dataset!"
   ]
  },
  {
   "cell_type": "code",
   "execution_count": 18,
   "metadata": {},
   "outputs": [
    {
     "data": {
      "text/plain": [
       "'life_exp_eda.html'"
      ]
     },
     "execution_count": 18,
     "metadata": {},
     "output_type": "execute_result"
    }
   ],
   "source": [
    "fig = ply.scatter(data_frame= life_exp,\n",
    "           x= \"Year\",\n",
    "           y=\"LifeExpectancy\",\n",
    "           color=\"Country\", \n",
    "           hover_name=\"Country\",\n",
    "           log_y=False)\n",
    "plotly.offline.plot(fig, filename='life_exp_eda.html')"
   ]
  },
  {
   "attachments": {},
   "cell_type": "markdown",
   "metadata": {},
   "source": [
    "# Joining Datasets\n"
   ]
  },
  {
   "cell_type": "code",
   "execution_count": 21,
   "metadata": {},
   "outputs": [
    {
     "name": "stdout",
     "output_type": "stream",
     "text": [
      "Columns in GDP: Index(['Country', 'CountryCode', 'Year', 'GDP_USD'], dtype='object')\n",
      "Columns in Life Expectancy: Index(['Country', 'Year', 'Status', 'Population', 'Hepatitis B', 'Measles',\n",
      "       'Polio', 'Diphtheria', 'HIV/AIDS', 'infant deaths', 'under-five deaths',\n",
      "       'Total expenditure', 'GDP', 'BMI', 'thinness  1-19 years', 'Alcohol',\n",
      "       'Schooling', 'LifeExpectancy'],\n",
      "      dtype='object')\n"
     ]
    }
   ],
   "source": [
    "# Check if the datasets have some columns we can join on\n",
    "print(f\"Columns in GDP: {gdp.columns}\")\n",
    "print(f\"Columns in Life Expectancy: {life_exp.columns}\")"
   ]
  },
  {
   "cell_type": "code",
   "execution_count": 23,
   "metadata": {},
   "outputs": [
    {
     "name": "stdout",
     "output_type": "stream",
     "text": [
      "Number of countries in GDP: 256\n",
      "Number of countries in Life Expectancy: 178\n",
      "Intersection of country values: {'Malawi', 'Ghana', 'Malta', 'Botswana', 'Spain', 'Cyprus', 'Equatorial Guinea', 'Kenya', 'Liberia', 'Denmark', 'Panama', 'Argentina', 'Dominican Republic', 'Guatemala', 'Madagascar', 'Paraguay', 'Canada', 'South Sudan', 'Brazil', 'Iraq', 'Croatia', 'Samoa', 'Mongolia', 'Myanmar', 'Cabo Verde', 'Greece', 'Guinea', 'Senegal', 'Chad', 'Togo', 'Ukraine', 'Mozambique', 'Niger', 'Georgia', 'Lesotho', 'Montenegro', 'Kiribati', 'Barbados', 'South Africa', 'Jordan', 'Bhutan', 'Albania', 'Turkmenistan', 'Timor-Leste', 'Cameroon', 'Germany', 'Slovenia', 'Somalia', 'Nepal', 'Syrian Arab Republic', 'New Zealand', 'Mauritania', 'United Arab Emirates', 'Hungary', 'Costa Rica', 'Ecuador', 'Mauritius', 'Luxembourg', 'Nigeria', 'Uganda', 'Peru', 'Swaziland', 'Israel', 'Qatar', 'Bulgaria', 'Pakistan', 'Guinea-Bissau', 'Zimbabwe', 'Seychelles', 'Sudan', 'Sri Lanka', 'Trinidad and Tobago', 'Estonia', 'Suriname', 'Jamaica', 'Sao Tome and Principe', 'Uzbekistan', 'Belarus', 'Lebanon', 'Belgium', 'Angola', 'Austria', 'Vanuatu', 'Namibia', 'Armenia', 'Bosnia and Herzegovina', 'Mexico', 'Uruguay', 'Sierra Leone', 'Nicaragua', 'Ireland', 'Philippines', 'Italy', 'Japan', 'Switzerland', 'Azerbaijan', 'Tajikistan', 'Djibouti', 'Fiji', 'Thailand', 'Morocco', 'Tunisia', 'Bangladesh', 'Sweden', 'Kazakhstan', 'Honduras', 'Chile', 'Romania', 'Colombia', 'Burkina Faso', 'Afghanistan', 'Russian Federation', 'Cambodia', 'Cuba', 'Gabon', 'Singapore', 'India', 'Algeria', 'Tonga', 'Comoros', 'Grenada', 'Zambia', 'Libya', 'Netherlands', 'Mali', 'Iceland', 'Poland', 'Saudi Arabia', 'Lithuania', 'Guyana', 'Indonesia', 'Portugal', 'Maldives', 'Antigua and Barbuda', 'Solomon Islands', 'Rwanda', 'France', 'Benin', 'Norway', 'Australia', 'Serbia', 'Eritrea', 'Belize', 'Oman', 'Turkey', 'Haiti', 'Brunei Darussalam', 'Malaysia', 'Kuwait', 'Finland', 'Bahrain', 'El Salvador', 'Central African Republic'}\n"
     ]
    }
   ],
   "source": [
    "# country and year are common. Do they have matching values?\n",
    "# We already saw the overlapping Years -> life expectancy is a subset of gdp\n",
    "# check countries\n",
    "print(f\"Number of countries in GDP: {len(gdp.Country.unique())}\")\n",
    "print(f\"Number of countries in Life Expectancy: {len(life_exp.Country.unique())}\")\n",
    "print(f\"Intersection of country values: {set(life_exp['Country']).intersection(gdp['Country'])}\")\n",
    "\n"
   ]
  },
  {
   "cell_type": "code",
   "execution_count": 25,
   "metadata": {},
   "outputs": [
    {
     "name": "stdout",
     "output_type": "stream",
     "text": [
      "Countries in Life Expectancy not in GDP:\n",
      " {\"Côte d'Ivoire\", 'United States of America', 'Gambia', 'Czechia', 'Bahamas', 'Republic of Moldova', 'Saint Lucia', \"Lao People's Democratic Republic\", 'Iran (Islamic Republic of)', 'United Kingdom of Great Britain and Northern Ireland', 'Bolivia (Plurinational State of)', 'The former Yugoslav republic of Macedonia', 'United Republic of Tanzania', 'Venezuela (Bolivarian Republic of)', 'Slovakia', 'Saint Vincent and the Grenadines', 'Congo', 'Democratic Republic of the Congo', 'Viet Nam', 'Kyrgyzstan', \"Democratic People's Republic of Korea\", 'Republic of Korea', 'Egypt', 'Yemen', 'Micronesia (Federated States of)'}\n"
     ]
    }
   ],
   "source": [
    "print(f\"Countries in Life Expectancy not in GDP:\\n {set(life_exp['Country']).difference(gdp['Country'])}\")\n"
   ]
  },
  {
   "cell_type": "code",
   "execution_count": 26,
   "metadata": {},
   "outputs": [
    {
     "name": "stdout",
     "output_type": "stream",
     "text": [
      "Countries in GDP not in Life Expectancy:\n",
      " {'Vietnam', 'New Caledonia', 'Europe & Central Asia (excluding high income)', 'Northern Mariana Islands', 'Middle East & North Africa (excluding high income)', 'Hong Kong SAR, China', 'Sub-Saharan Africa (IDA & IBRD countries)', 'Isle of Man', 'Macedonia, FYR', 'French Polynesia', 'St. Vincent and the Grenadines', 'Macao SAR, China', 'China', 'IBRD only', 'World', 'Korea, Rep.', 'Channel Islands', 'Other small states', 'IDA only', 'East Asia & Pacific', 'Upper middle income', 'Latin America & Caribbean (excluding high income)', 'Middle East & North Africa (IDA & IBRD countries)', 'Pacific island small states', 'Andorra', 'Venezuela, RB', 'East Asia & Pacific (excluding high income)', 'Kosovo', 'Middle income', 'Burundi', 'Latin America & Caribbean', 'Post-demographic dividend', 'Monaco', 'Slovak Republic', 'Bermuda', 'American Samoa', 'Low income', 'IDA total', 'Early-demographic dividend', 'Marshall Islands', 'Egypt, Arab Rep.', 'Sub-Saharan Africa (excluding high income)', 'Virgin Islands (U.S.)', 'Puerto Rico', 'Yemen, Rep.', 'Greenland', 'IDA blend', 'Micronesia, Fed. Sts.', 'East Asia & Pacific (IDA & IBRD countries)', 'Latvia', 'Gambia, The', 'United Kingdom', 'European Union', 'Lao PDR', 'Europe & Central Asia (IDA & IBRD countries)', 'North America', 'United States', 'Latin America & the Caribbean (IDA & IBRD countries)', 'Late-demographic dividend', 'Euro area', 'Low & middle income', 'Congo, Rep.', 'Bahamas, The', 'South Asia (IDA & IBRD)', 'St. Kitts and Nevis', 'Least developed countries: UN classification', 'Liechtenstein', 'Lower middle income', 'West Bank and Gaza', 'Sub-Saharan Africa', 'Caribbean small states', 'Tanzania', 'Congo, Dem. Rep.', 'Bolivia', 'Aruba', 'Dominica', 'Heavily indebted poor countries (HIPC)', \"Cote d'Ivoire\", 'Fragile and conflict affected situations', 'Palau', 'Arab World', 'Europe & Central Asia', 'Kyrgyz Republic', 'Ethiopia', 'Small states', 'South Asia', 'Czech Republic', 'Faroe Islands', 'Nauru', 'St. Lucia', 'San Marino', 'OECD members', 'Papua New Guinea', 'IDA & IBRD total', 'Central Europe and the Baltics', 'Cayman Islands', 'Pre-demographic dividend', 'Iran, Islamic Rep.', 'Tuvalu', 'Moldova', 'Guam', 'Middle East & North Africa', 'High income'}\n"
     ]
    }
   ],
   "source": [
    "print(f\"Countries in GDP not in Life Expectancy:\\n {set(gdp['Country']).difference(life_exp['Country'])}\")\n",
    "\n"
   ]
  },
  {
   "cell_type": "code",
   "execution_count": null,
   "metadata": {},
   "outputs": [],
   "source": [
    "# We can see some of these match, but are spelled / formatted differently - we can create a map between them to fix this\n",
    "# (optional exercise)"
   ]
  },
  {
   "cell_type": "code",
   "execution_count": 28,
   "metadata": {},
   "outputs": [
    {
     "name": "stdout",
     "output_type": "stream",
     "text": [
      "Shape of left dataset: (2848, 18)\n",
      "Shape of merged dataset: (113264, 21)\n"
     ]
    }
   ],
   "source": [
    "# Merge on country - left (discuss why)\n",
    "merged = pd.merge(life_exp, gdp, how='left',on=['Country'], suffixes=['_le','_gdp'])\n",
    "\n",
    "# let's check the shape of the merged dataset to see if it worked as expected\n",
    "print(f\"Shape of left dataset: {life_exp.shape}\")\n",
    "print(f\"Shape of merged dataset: {merged.shape}\")"
   ]
  },
  {
   "cell_type": "code",
   "execution_count": 29,
   "metadata": {},
   "outputs": [
    {
     "name": "stdout",
     "output_type": "stream",
     "text": [
      "Shape of left dataset: (2848, 18)\n",
      "Shape of merged dataset: (2848, 20)\n"
     ]
    }
   ],
   "source": [
    "merged = pd.merge(life_exp, gdp, how='left',on=['Country','Year'], suffixes=['_le','_gdp'])\n",
    "\n",
    "print(f\"Shape of left dataset: {life_exp.shape}\")\n",
    "print(f\"Shape of merged dataset: {merged.shape}\")"
   ]
  },
  {
   "attachments": {},
   "cell_type": "markdown",
   "metadata": {},
   "source": [
    "# Data Quality"
   ]
  },
  {
   "cell_type": "code",
   "execution_count": 31,
   "metadata": {},
   "outputs": [
    {
     "data": {
      "text/html": [
       "<div>\n",
       "<style scoped>\n",
       "    .dataframe tbody tr th:only-of-type {\n",
       "        vertical-align: middle;\n",
       "    }\n",
       "\n",
       "    .dataframe tbody tr th {\n",
       "        vertical-align: top;\n",
       "    }\n",
       "\n",
       "    .dataframe thead th {\n",
       "        text-align: right;\n",
       "    }\n",
       "</style>\n",
       "<table border=\"1\" class=\"dataframe\">\n",
       "  <thead>\n",
       "    <tr style=\"text-align: right;\">\n",
       "      <th></th>\n",
       "      <th>Country</th>\n",
       "      <th>GDP</th>\n",
       "      <th>GDP_USD</th>\n",
       "      <th>Year</th>\n",
       "      <th>gdp_diff</th>\n",
       "    </tr>\n",
       "  </thead>\n",
       "  <tbody>\n",
       "    <tr>\n",
       "      <th>0</th>\n",
       "      <td>Afghanistan</td>\n",
       "      <td>584.259210</td>\n",
       "      <td>1.921556e+10</td>\n",
       "      <td>2015</td>\n",
       "      <td>1.921556e+10</td>\n",
       "    </tr>\n",
       "    <tr>\n",
       "      <th>1</th>\n",
       "      <td>Afghanistan</td>\n",
       "      <td>612.696514</td>\n",
       "      <td>2.005019e+10</td>\n",
       "      <td>2014</td>\n",
       "      <td>2.005019e+10</td>\n",
       "    </tr>\n",
       "    <tr>\n",
       "      <th>2</th>\n",
       "      <td>Afghanistan</td>\n",
       "      <td>631.744976</td>\n",
       "      <td>2.004633e+10</td>\n",
       "      <td>2013</td>\n",
       "      <td>2.004633e+10</td>\n",
       "    </tr>\n",
       "    <tr>\n",
       "      <th>3</th>\n",
       "      <td>Afghanistan</td>\n",
       "      <td>669.959000</td>\n",
       "      <td>2.053654e+10</td>\n",
       "      <td>2012</td>\n",
       "      <td>2.053654e+10</td>\n",
       "    </tr>\n",
       "    <tr>\n",
       "      <th>4</th>\n",
       "      <td>Afghanistan</td>\n",
       "      <td>63.537231</td>\n",
       "      <td>1.793024e+10</td>\n",
       "      <td>2011</td>\n",
       "      <td>1.793024e+10</td>\n",
       "    </tr>\n",
       "    <tr>\n",
       "      <th>5</th>\n",
       "      <td>Afghanistan</td>\n",
       "      <td>553.328940</td>\n",
       "      <td>1.593680e+10</td>\n",
       "      <td>2010</td>\n",
       "      <td>1.593680e+10</td>\n",
       "    </tr>\n",
       "    <tr>\n",
       "      <th>6</th>\n",
       "      <td>Afghanistan</td>\n",
       "      <td>445.893298</td>\n",
       "      <td>1.248694e+10</td>\n",
       "      <td>2009</td>\n",
       "      <td>1.248694e+10</td>\n",
       "    </tr>\n",
       "    <tr>\n",
       "      <th>7</th>\n",
       "      <td>Afghanistan</td>\n",
       "      <td>373.361116</td>\n",
       "      <td>1.019053e+10</td>\n",
       "      <td>2008</td>\n",
       "      <td>1.019053e+10</td>\n",
       "    </tr>\n",
       "    <tr>\n",
       "      <th>8</th>\n",
       "      <td>Afghanistan</td>\n",
       "      <td>369.835796</td>\n",
       "      <td>9.843842e+09</td>\n",
       "      <td>2007</td>\n",
       "      <td>9.843842e+09</td>\n",
       "    </tr>\n",
       "    <tr>\n",
       "      <th>9</th>\n",
       "      <td>Afghanistan</td>\n",
       "      <td>272.563770</td>\n",
       "      <td>7.057598e+09</td>\n",
       "      <td>2006</td>\n",
       "      <td>7.057598e+09</td>\n",
       "    </tr>\n",
       "    <tr>\n",
       "      <th>10</th>\n",
       "      <td>Afghanistan</td>\n",
       "      <td>25.294130</td>\n",
       "      <td>6.275074e+09</td>\n",
       "      <td>2005</td>\n",
       "      <td>6.275074e+09</td>\n",
       "    </tr>\n",
       "    <tr>\n",
       "      <th>11</th>\n",
       "      <td>Afghanistan</td>\n",
       "      <td>219.141353</td>\n",
       "      <td>5.285466e+09</td>\n",
       "      <td>2004</td>\n",
       "      <td>5.285465e+09</td>\n",
       "    </tr>\n",
       "    <tr>\n",
       "      <th>12</th>\n",
       "      <td>Afghanistan</td>\n",
       "      <td>198.728544</td>\n",
       "      <td>4.583644e+09</td>\n",
       "      <td>2003</td>\n",
       "      <td>4.583644e+09</td>\n",
       "    </tr>\n",
       "    <tr>\n",
       "      <th>13</th>\n",
       "      <td>Afghanistan</td>\n",
       "      <td>187.845950</td>\n",
       "      <td>4.128821e+09</td>\n",
       "      <td>2002</td>\n",
       "      <td>4.128821e+09</td>\n",
       "    </tr>\n",
       "    <tr>\n",
       "      <th>14</th>\n",
       "      <td>Afghanistan</td>\n",
       "      <td>117.496980</td>\n",
       "      <td>2.461666e+09</td>\n",
       "      <td>2001</td>\n",
       "      <td>2.461666e+09</td>\n",
       "    </tr>\n",
       "    <tr>\n",
       "      <th>15</th>\n",
       "      <td>Afghanistan</td>\n",
       "      <td>114.560000</td>\n",
       "      <td>NaN</td>\n",
       "      <td>2000</td>\n",
       "      <td>NaN</td>\n",
       "    </tr>\n",
       "    <tr>\n",
       "      <th>16</th>\n",
       "      <td>Albania</td>\n",
       "      <td>3954.227830</td>\n",
       "      <td>1.133526e+10</td>\n",
       "      <td>2015</td>\n",
       "      <td>1.133526e+10</td>\n",
       "    </tr>\n",
       "    <tr>\n",
       "      <th>17</th>\n",
       "      <td>Albania</td>\n",
       "      <td>4575.763787</td>\n",
       "      <td>1.322824e+10</td>\n",
       "      <td>2014</td>\n",
       "      <td>1.322824e+10</td>\n",
       "    </tr>\n",
       "    <tr>\n",
       "      <th>18</th>\n",
       "      <td>Albania</td>\n",
       "      <td>4414.723140</td>\n",
       "      <td>1.277628e+10</td>\n",
       "      <td>2013</td>\n",
       "      <td>1.277627e+10</td>\n",
       "    </tr>\n",
       "    <tr>\n",
       "      <th>19</th>\n",
       "      <td>Albania</td>\n",
       "      <td>4247.614380</td>\n",
       "      <td>1.231978e+10</td>\n",
       "      <td>2012</td>\n",
       "      <td>1.231978e+10</td>\n",
       "    </tr>\n",
       "  </tbody>\n",
       "</table>\n",
       "</div>"
      ],
      "text/plain": [
       "        Country          GDP       GDP_USD  Year      gdp_diff\n",
       "0   Afghanistan   584.259210  1.921556e+10  2015  1.921556e+10\n",
       "1   Afghanistan   612.696514  2.005019e+10  2014  2.005019e+10\n",
       "2   Afghanistan   631.744976  2.004633e+10  2013  2.004633e+10\n",
       "3   Afghanistan   669.959000  2.053654e+10  2012  2.053654e+10\n",
       "4   Afghanistan    63.537231  1.793024e+10  2011  1.793024e+10\n",
       "5   Afghanistan   553.328940  1.593680e+10  2010  1.593680e+10\n",
       "6   Afghanistan   445.893298  1.248694e+10  2009  1.248694e+10\n",
       "7   Afghanistan   373.361116  1.019053e+10  2008  1.019053e+10\n",
       "8   Afghanistan   369.835796  9.843842e+09  2007  9.843842e+09\n",
       "9   Afghanistan   272.563770  7.057598e+09  2006  7.057598e+09\n",
       "10  Afghanistan    25.294130  6.275074e+09  2005  6.275074e+09\n",
       "11  Afghanistan   219.141353  5.285466e+09  2004  5.285465e+09\n",
       "12  Afghanistan   198.728544  4.583644e+09  2003  4.583644e+09\n",
       "13  Afghanistan   187.845950  4.128821e+09  2002  4.128821e+09\n",
       "14  Afghanistan   117.496980  2.461666e+09  2001  2.461666e+09\n",
       "15  Afghanistan   114.560000           NaN  2000           NaN\n",
       "16      Albania  3954.227830  1.133526e+10  2015  1.133526e+10\n",
       "17      Albania  4575.763787  1.322824e+10  2014  1.322824e+10\n",
       "18      Albania  4414.723140  1.277628e+10  2013  1.277627e+10\n",
       "19      Albania  4247.614380  1.231978e+10  2012  1.231978e+10"
      ]
     },
     "execution_count": 31,
     "metadata": {},
     "output_type": "execute_result"
    }
   ],
   "source": [
    "# check data quality of GDP values\n",
    "\n",
    "merged['gdp_diff'] = abs(merged['GDP']-merged['GDP_USD'])\n",
    "merged['gdp_diff'].describe()\n",
    "\n",
    "merged[['Country','GDP','GDP_USD','Year','gdp_diff']].head(20)\n",
    "\n",
    "# let's check the internet for the GDP of a couple of countries to see if we can determine whihc is more accurate"
   ]
  },
  {
   "attachments": {},
   "cell_type": "markdown",
   "metadata": {},
   "source": [
    "# Visualisation and Insights"
   ]
  },
  {
   "cell_type": "code",
   "execution_count": 34,
   "metadata": {},
   "outputs": [
    {
     "data": {
      "text/plain": [
       "'gdp_vs_life_exp.html'"
      ]
     },
     "execution_count": 34,
     "metadata": {},
     "output_type": "execute_result"
    }
   ],
   "source": [
    "fig = ply.scatter(\n",
    "    data_frame=merged, \n",
    "    x=\"GDP_USD\",\n",
    "    y=\"LifeExpectancy\",\n",
    "    hover_name=\"Year\",\n",
    "    color=\"Country\",\n",
    "    log_x=False) \n",
    "plotly.offline.plot(fig, filename='gdp_vs_life_exp.html')"
   ]
  },
  {
   "cell_type": "code",
   "execution_count": 35,
   "metadata": {},
   "outputs": [
    {
     "data": {
      "text/plain": [
       "'gdp_vs_life_exp_log_scale.html'"
      ]
     },
     "execution_count": 35,
     "metadata": {},
     "output_type": "execute_result"
    }
   ],
   "source": [
    "# with log scale\n",
    "fig = ply.scatter(\n",
    "    data_frame=merged, \n",
    "    x=\"GDP_USD\",\n",
    "    y=\"LifeExpectancy\",\n",
    "    hover_name=\"Year\",\n",
    "    color=\"Country\",\n",
    "    log_x=True) \n",
    "plotly.offline.plot(fig, filename='gdp_vs_life_exp_log_scale.html')"
   ]
  }
 ],
 "metadata": {
  "kernelspec": {
   "display_name": "Python 3",
   "language": "python",
   "name": "python3"
  },
  "language_info": {
   "codemirror_mode": {
    "name": "ipython",
    "version": 3
   },
   "file_extension": ".py",
   "mimetype": "text/x-python",
   "name": "python",
   "nbconvert_exporter": "python",
   "pygments_lexer": "ipython3",
   "version": "3.9.11"
  },
  "orig_nbformat": 4
 },
 "nbformat": 4,
 "nbformat_minor": 2
}
